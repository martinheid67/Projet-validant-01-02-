{
 "cells": [
  {
   "cell_type": "code",
   "execution_count": 4,
   "id": "27fa73a1",
   "metadata": {},
   "outputs": [
    {
     "data": {
      "text/plain": [
       "'/home/martin'"
      ]
     },
     "execution_count": 4,
     "metadata": {},
     "output_type": "execute_result"
    }
   ],
   "source": [
    "import pandas as pd\n",
    "import os \n",
    "os.getcwd()"
   ]
  },
  {
   "cell_type": "code",
   "execution_count": 8,
   "id": "13c4720c",
   "metadata": {},
   "outputs": [
    {
     "data": {
      "text/html": [
       "<div>\n",
       "<style scoped>\n",
       "    .dataframe tbody tr th:only-of-type {\n",
       "        vertical-align: middle;\n",
       "    }\n",
       "\n",
       "    .dataframe tbody tr th {\n",
       "        vertical-align: top;\n",
       "    }\n",
       "\n",
       "    .dataframe thead th {\n",
       "        text-align: right;\n",
       "    }\n",
       "</style>\n",
       "<table border=\"1\" class=\"dataframe\">\n",
       "  <thead>\n",
       "    <tr style=\"text-align: right;\">\n",
       "      <th></th>\n",
       "      <th>osm_id</th>\n",
       "      <th>name</th>\n",
       "      <th>number</th>\n",
       "      <th>street</th>\n",
       "      <th>postal_code</th>\n",
       "      <th>city</th>\n",
       "      <th>country</th>\n",
       "      <th>country_code</th>\n",
       "      <th>lat</th>\n",
       "      <th>lon</th>\n",
       "      <th>website</th>\n",
       "      <th>email</th>\n",
       "      <th>phone</th>\n",
       "      <th>fax</th>\n",
       "      <th>tags</th>\n",
       "      <th>description</th>\n",
       "      <th>date_added</th>\n",
       "      <th>wikidata</th>\n",
       "    </tr>\n",
       "  </thead>\n",
       "  <tbody>\n",
       "    <tr>\n",
       "      <th>0</th>\n",
       "      <td>4540234591</td>\n",
       "      <td>3 bis f</td>\n",
       "      <td>109</td>\n",
       "      <td>Avenue du Petit Barthélémy</td>\n",
       "      <td>13617.0</td>\n",
       "      <td>Aix-en-Provence</td>\n",
       "      <td>France</td>\n",
       "      <td>fr</td>\n",
       "      <td>43.521207</td>\n",
       "      <td>5.439875</td>\n",
       "      <td>http://www.3bisf.com</td>\n",
       "      <td>contact@3bisf.com</td>\n",
       "      <td>3.344216e+10</td>\n",
       "      <td>NaN</td>\n",
       "      <td>osm:museum;art:art contemporain</td>\n",
       "      <td>NaN</td>\n",
       "      <td>44116,0076388889</td>\n",
       "      <td>NaN</td>\n",
       "    </tr>\n",
       "    <tr>\n",
       "      <th>1</th>\n",
       "      <td>4388745689</td>\n",
       "      <td>A casa di Losari</td>\n",
       "      <td>NaN</td>\n",
       "      <td>T 30</td>\n",
       "      <td>20226.0</td>\n",
       "      <td>Belgodère</td>\n",
       "      <td>France</td>\n",
       "      <td>fr</td>\n",
       "      <td>42.638732</td>\n",
       "      <td>9.007660</td>\n",
       "      <td>NaN</td>\n",
       "      <td>NaN</td>\n",
       "      <td>NaN</td>\n",
       "      <td>NaN</td>\n",
       "      <td>osm:museum</td>\n",
       "      <td>NaN</td>\n",
       "      <td>43338,9393981481</td>\n",
       "      <td>NaN</td>\n",
       "    </tr>\n",
       "    <tr>\n",
       "      <th>2</th>\n",
       "      <td>4426176194</td>\n",
       "      <td>À l'homme volant</td>\n",
       "      <td>35</td>\n",
       "      <td>Grande Rue</td>\n",
       "      <td>72300.0</td>\n",
       "      <td>Sablé-sur-Sarthe</td>\n",
       "      <td>France</td>\n",
       "      <td>fr</td>\n",
       "      <td>47.839656</td>\n",
       "      <td>-0.334043</td>\n",
       "      <td>NaN</td>\n",
       "      <td>NaN</td>\n",
       "      <td>3.324395e+10</td>\n",
       "      <td>NaN</td>\n",
       "      <td>osm:museum;type:centre d'interpretation</td>\n",
       "      <td>NaN</td>\n",
       "      <td>42644,4636574074</td>\n",
       "      <td>NaN</td>\n",
       "    </tr>\n",
       "    <tr>\n",
       "      <th>3</th>\n",
       "      <td>7652598615</td>\n",
       "      <td>Abbadiale - Maison des arts</td>\n",
       "      <td>NaN</td>\n",
       "      <td>Rue du Gabizos</td>\n",
       "      <td>65400.0</td>\n",
       "      <td>Arras-en-Lavedan</td>\n",
       "      <td>France</td>\n",
       "      <td>fr</td>\n",
       "      <td>42.990826</td>\n",
       "      <td>-0.128057</td>\n",
       "      <td>https://www.abbadiale.fr/</td>\n",
       "      <td>NaN</td>\n",
       "      <td>3.363317e+10</td>\n",
       "      <td>NaN</td>\n",
       "      <td>osm:museum</td>\n",
       "      <td>NaN</td>\n",
       "      <td>44120,0466782407</td>\n",
       "      <td>NaN</td>\n",
       "    </tr>\n",
       "    <tr>\n",
       "      <th>4</th>\n",
       "      <td>121580330</td>\n",
       "      <td>Abbaye</td>\n",
       "      <td>NaN</td>\n",
       "      <td>Rue de l'Abbaye</td>\n",
       "      <td>39210.0</td>\n",
       "      <td>Château-Chalon</td>\n",
       "      <td>France</td>\n",
       "      <td>fr</td>\n",
       "      <td>46.753866</td>\n",
       "      <td>5.624296</td>\n",
       "      <td>NaN</td>\n",
       "      <td>NaN</td>\n",
       "      <td>NaN</td>\n",
       "      <td>NaN</td>\n",
       "      <td>osm:museum;art:architecture</td>\n",
       "      <td>NaN</td>\n",
       "      <td>43102,5491898148</td>\n",
       "      <td>NaN</td>\n",
       "    </tr>\n",
       "    <tr>\n",
       "      <th>...</th>\n",
       "      <td>...</td>\n",
       "      <td>...</td>\n",
       "      <td>...</td>\n",
       "      <td>...</td>\n",
       "      <td>...</td>\n",
       "      <td>...</td>\n",
       "      <td>...</td>\n",
       "      <td>...</td>\n",
       "      <td>...</td>\n",
       "      <td>...</td>\n",
       "      <td>...</td>\n",
       "      <td>...</td>\n",
       "      <td>...</td>\n",
       "      <td>...</td>\n",
       "      <td>...</td>\n",
       "      <td>...</td>\n",
       "      <td>...</td>\n",
       "      <td>...</td>\n",
       "    </tr>\n",
       "    <tr>\n",
       "      <th>3779</th>\n",
       "      <td>1348524503</td>\n",
       "      <td>Vivarium du Moulin</td>\n",
       "      <td>NaN</td>\n",
       "      <td>Rue Principale</td>\n",
       "      <td>68610.0</td>\n",
       "      <td>Thann-Guebwiller</td>\n",
       "      <td>France</td>\n",
       "      <td>fr</td>\n",
       "      <td>47.942258</td>\n",
       "      <td>7.149613</td>\n",
       "      <td>NaN</td>\n",
       "      <td>NaN</td>\n",
       "      <td>NaN</td>\n",
       "      <td>NaN</td>\n",
       "      <td>osm:museum</td>\n",
       "      <td>NaN</td>\n",
       "      <td>40747,8717476852</td>\n",
       "      <td>NaN</td>\n",
       "    </tr>\n",
       "    <tr>\n",
       "      <th>3780</th>\n",
       "      <td>577287841</td>\n",
       "      <td>Voyage au Temps des impressionnistes</td>\n",
       "      <td>NaN</td>\n",
       "      <td>Rue de Léry</td>\n",
       "      <td>95430.0</td>\n",
       "      <td>Auvers-sur-Oise</td>\n",
       "      <td>France</td>\n",
       "      <td>fr</td>\n",
       "      <td>49.072057</td>\n",
       "      <td>2.166167</td>\n",
       "      <td>NaN</td>\n",
       "      <td>NaN</td>\n",
       "      <td>NaN</td>\n",
       "      <td>NaN</td>\n",
       "      <td>osm:museum</td>\n",
       "      <td>NaN</td>\n",
       "      <td>41141,7272222222</td>\n",
       "      <td>NaN</td>\n",
       "    </tr>\n",
       "    <tr>\n",
       "      <th>3781</th>\n",
       "      <td>145062184</td>\n",
       "      <td>Wines and Spirits Museum</td>\n",
       "      <td>NaN</td>\n",
       "      <td>Corniche Bonaparte</td>\n",
       "      <td>83150.0</td>\n",
       "      <td>Bandol</td>\n",
       "      <td>France</td>\n",
       "      <td>fr</td>\n",
       "      <td>43.128031</td>\n",
       "      <td>5.749484</td>\n",
       "      <td>NaN</td>\n",
       "      <td>NaN</td>\n",
       "      <td>NaN</td>\n",
       "      <td>NaN</td>\n",
       "      <td>osm:museum</td>\n",
       "      <td>NaN</td>\n",
       "      <td>42367,7135069444</td>\n",
       "      <td>NaN</td>\n",
       "    </tr>\n",
       "    <tr>\n",
       "      <th>3782</th>\n",
       "      <td>82988725</td>\n",
       "      <td>Xanxotea</td>\n",
       "      <td>NaN</td>\n",
       "      <td>La Place</td>\n",
       "      <td>64240.0</td>\n",
       "      <td>Isturits</td>\n",
       "      <td>France</td>\n",
       "      <td>fr</td>\n",
       "      <td>43.364834</td>\n",
       "      <td>-1.203580</td>\n",
       "      <td>http://www.xanxotea.com/</td>\n",
       "      <td>NaN</td>\n",
       "      <td>NaN</td>\n",
       "      <td>NaN</td>\n",
       "      <td>osm:museum</td>\n",
       "      <td>Musée ethnographique Xanxotea pour découvrir l...</td>\n",
       "      <td>44129,580775463</td>\n",
       "      <td>NaN</td>\n",
       "    </tr>\n",
       "    <tr>\n",
       "      <th>3783</th>\n",
       "      <td>277107550</td>\n",
       "      <td>Xylotheque - Kiosque Pedagogique</td>\n",
       "      <td>NaN</td>\n",
       "      <td>Impasse de la Haie Vive</td>\n",
       "      <td>45590.0</td>\n",
       "      <td>Saint-Cyr-en-Val</td>\n",
       "      <td>France</td>\n",
       "      <td>fr</td>\n",
       "      <td>47.825888</td>\n",
       "      <td>1.967795</td>\n",
       "      <td>NaN</td>\n",
       "      <td>NaN</td>\n",
       "      <td>NaN</td>\n",
       "      <td>NaN</td>\n",
       "      <td>osm:museum</td>\n",
       "      <td>NaN</td>\n",
       "      <td>43331,4758449074</td>\n",
       "      <td>NaN</td>\n",
       "    </tr>\n",
       "  </tbody>\n",
       "</table>\n",
       "<p>3784 rows × 18 columns</p>\n",
       "</div>"
      ],
      "text/plain": [
       "          osm_id                                  name number  \\\n",
       "0     4540234591                               3 bis f    109   \n",
       "1     4388745689                      A casa di Losari    NaN   \n",
       "2     4426176194                      À l'homme volant     35   \n",
       "3     7652598615           Abbadiale - Maison des arts    NaN   \n",
       "4      121580330                                Abbaye    NaN   \n",
       "...          ...                                   ...    ...   \n",
       "3779  1348524503                    Vivarium du Moulin    NaN   \n",
       "3780   577287841  Voyage au Temps des impressionnistes    NaN   \n",
       "3781   145062184              Wines and Spirits Museum    NaN   \n",
       "3782    82988725                              Xanxotea    NaN   \n",
       "3783   277107550      Xylotheque - Kiosque Pedagogique    NaN   \n",
       "\n",
       "                          street  postal_code              city country  \\\n",
       "0     Avenue du Petit Barthélémy      13617.0   Aix-en-Provence  France   \n",
       "1                           T 30      20226.0         Belgodère  France   \n",
       "2                     Grande Rue      72300.0  Sablé-sur-Sarthe  France   \n",
       "3                 Rue du Gabizos      65400.0  Arras-en-Lavedan  France   \n",
       "4                Rue de l'Abbaye      39210.0    Château-Chalon  France   \n",
       "...                          ...          ...               ...     ...   \n",
       "3779              Rue Principale      68610.0  Thann-Guebwiller  France   \n",
       "3780                 Rue de Léry      95430.0   Auvers-sur-Oise  France   \n",
       "3781          Corniche Bonaparte      83150.0            Bandol  France   \n",
       "3782                    La Place      64240.0          Isturits  France   \n",
       "3783     Impasse de la Haie Vive      45590.0  Saint-Cyr-en-Val  France   \n",
       "\n",
       "     country_code        lat       lon                    website  \\\n",
       "0              fr  43.521207  5.439875       http://www.3bisf.com   \n",
       "1              fr  42.638732  9.007660                        NaN   \n",
       "2              fr  47.839656 -0.334043                        NaN   \n",
       "3              fr  42.990826 -0.128057  https://www.abbadiale.fr/   \n",
       "4              fr  46.753866  5.624296                        NaN   \n",
       "...           ...        ...       ...                        ...   \n",
       "3779           fr  47.942258  7.149613                        NaN   \n",
       "3780           fr  49.072057  2.166167                        NaN   \n",
       "3781           fr  43.128031  5.749484                        NaN   \n",
       "3782           fr  43.364834 -1.203580   http://www.xanxotea.com/   \n",
       "3783           fr  47.825888  1.967795                        NaN   \n",
       "\n",
       "                  email         phone  fax  \\\n",
       "0     contact@3bisf.com  3.344216e+10  NaN   \n",
       "1                   NaN           NaN  NaN   \n",
       "2                   NaN  3.324395e+10  NaN   \n",
       "3                   NaN  3.363317e+10  NaN   \n",
       "4                   NaN           NaN  NaN   \n",
       "...                 ...           ...  ...   \n",
       "3779                NaN           NaN  NaN   \n",
       "3780                NaN           NaN  NaN   \n",
       "3781                NaN           NaN  NaN   \n",
       "3782                NaN           NaN  NaN   \n",
       "3783                NaN           NaN  NaN   \n",
       "\n",
       "                                         tags  \\\n",
       "0             osm:museum;art:art contemporain   \n",
       "1                                  osm:museum   \n",
       "2     osm:museum;type:centre d'interpretation   \n",
       "3                                  osm:museum   \n",
       "4                 osm:museum;art:architecture   \n",
       "...                                       ...   \n",
       "3779                               osm:museum   \n",
       "3780                               osm:museum   \n",
       "3781                               osm:museum   \n",
       "3782                               osm:museum   \n",
       "3783                               osm:museum   \n",
       "\n",
       "                                            description        date_added  \\\n",
       "0                                                   NaN  44116,0076388889   \n",
       "1                                                   NaN  43338,9393981481   \n",
       "2                                                   NaN  42644,4636574074   \n",
       "3                                                   NaN  44120,0466782407   \n",
       "4                                                   NaN  43102,5491898148   \n",
       "...                                                 ...               ...   \n",
       "3779                                                NaN  40747,8717476852   \n",
       "3780                                                NaN  41141,7272222222   \n",
       "3781                                                NaN  42367,7135069444   \n",
       "3782  Musée ethnographique Xanxotea pour découvrir l...   44129,580775463   \n",
       "3783                                                NaN  43331,4758449074   \n",
       "\n",
       "     wikidata  \n",
       "0         NaN  \n",
       "1         NaN  \n",
       "2         NaN  \n",
       "3         NaN  \n",
       "4         NaN  \n",
       "...       ...  \n",
       "3779      NaN  \n",
       "3780      NaN  \n",
       "3781      NaN  \n",
       "3782      NaN  \n",
       "3783      NaN  \n",
       "\n",
       "[3784 rows x 18 columns]"
      ]
     },
     "execution_count": 8,
     "metadata": {},
     "output_type": "execute_result"
    }
   ],
   "source": [
    "data = pd.read_csv(\"/home/martin/Bureau/THP/01_02/Data_Analyse_Musees/museums.csv\", encoding='latin-1', sep = \";\")\n",
    "data"
   ]
  },
  {
   "cell_type": "code",
   "execution_count": null,
   "id": "d2a91816",
   "metadata": {},
   "outputs": [],
   "source": [
    "# Fonction permettant de compter le nombre de musées en France métropolitaine"
   ]
  },
  {
   "cell_type": "code",
   "execution_count": 27,
   "id": "bb2158d3",
   "metadata": {},
   "outputs": [
    {
     "name": "stdout",
     "output_type": "stream",
     "text": [
      "Il y a 3784 musées en France métropolitaine !\n"
     ]
    }
   ],
   "source": [
    "def nombreMusees():\n",
    "    number_of_museums = len(data.index)\n",
    "    print(\"Il y a\", number_of_museums, \"musées en France métropolitaine !\")\n",
    "\n",
    "nombreMusees()"
   ]
  },
  {
   "cell_type": "code",
   "execution_count": 28,
   "id": "c3ecbb46",
   "metadata": {},
   "outputs": [],
   "source": [
    "# Fonction permettant de trouver la ville où il y a le plus de musées"
   ]
  },
  {
   "cell_type": "code",
   "execution_count": 29,
   "id": "4c745196",
   "metadata": {},
   "outputs": [
    {
     "name": "stdout",
     "output_type": "stream",
     "text": [
      "La ville avec le plus de musées en France est Paris !\n"
     ]
    }
   ],
   "source": [
    "def villeMusees():\n",
    "    city_with_the_most_museums = data['city'].value_counts().idxmax()\n",
    "    print(\"La ville avec le plus de musées en France est\", city_with_the_most_museums, \"!\")\n",
    "\n",
    "villeMusees()"
   ]
  },
  {
   "cell_type": "code",
   "execution_count": null,
   "id": "9e802ccf",
   "metadata": {},
   "outputs": [],
   "source": [
    "# Fonction permettant de trouver le nombre moyen de musées par ville"
   ]
  },
  {
   "cell_type": "code",
   "execution_count": 98,
   "id": "4926180d",
   "metadata": {},
   "outputs": [
    {
     "name": "stdout",
     "output_type": "stream",
     "text": [
      "Le nombre moyen de musées par ville en France est de 1.647930283224401\n"
     ]
    }
   ],
   "source": [
    "def moyenneMusees():\n",
    "    average_museums_by_city = data['city'].value_counts().mean()\n",
    "    print(\"Le nombre moyen de musées par ville en France est de\", average_museums_by_city)\n",
    "    \n",
    "moyenneMusees()"
   ]
  },
  {
   "cell_type": "code",
   "execution_count": null,
   "id": "0a9031bb",
   "metadata": {},
   "outputs": [],
   "source": [
    "# Fonction permettant de trouver le nombre médian de musées par ville"
   ]
  },
  {
   "cell_type": "code",
   "execution_count": 99,
   "id": "0ccd7ae8",
   "metadata": {},
   "outputs": [
    {
     "name": "stdout",
     "output_type": "stream",
     "text": [
      "Le nombre médian de musées par ville en France est de 1.0\n"
     ]
    }
   ],
   "source": [
    "def medianeMusees():\n",
    "    median_museums_by_city = data['city'].value_counts().median()\n",
    "    print(\"Le nombre médian de musées par ville en France est de\", median_museums_by_city)\n",
    "    \n",
    "medianeMusees()"
   ]
  },
  {
   "cell_type": "code",
   "execution_count": null,
   "id": "9a198260",
   "metadata": {},
   "outputs": [],
   "source": [
    "# Fonction permettant de classer les musées par types "
   ]
  },
  {
   "cell_type": "code",
   "execution_count": 50,
   "id": "bd14172a",
   "metadata": {},
   "outputs": [
    {
     "name": "stdout",
     "output_type": "stream",
     "text": [
      "osm:museum                                                                    57.478858\n",
      "osm:museum;type:ecomusee                                                      10.227273\n",
      "osm:museum;type:musee technique et industriel                                  5.126850\n",
      "osm:museum;type:musee d'histoire                                               3.488372\n",
      "osm:museum;art:architecture                                                    3.197674\n",
      "                                                                                ...    \n",
      "osm:museum;gender:musee de couple;type:maison d'artiste                        0.026427\n",
      "osm:museum;art:prehistoire;type:musee d'histoire naturelle                     0.026427\n",
      "osm:museum;continent:art asiatique;type:centre d'art                           0.026427\n",
      "osm:museum;type:musee d'artiste;type:musee litteraire;gender:musee d'homme     0.026427\n",
      "osm:museum;gender:musee d'homme;type:musee de beaux-arts                       0.026427\n",
      "Name: tags, Length: 119, dtype: float64\n"
     ]
    }
   ],
   "source": [
    "def typeMusees():\n",
    "    type_of_museums = data['tags'].value_counts()\n",
    "    type_of_museums_percentage = type_of_museums * 100 / (len(data.index))\n",
    "    print(type_of_museums_percentage)\n",
    "\n",
    "typeMusees()"
   ]
  },
  {
   "cell_type": "code",
   "execution_count": 51,
   "id": "fe440144",
   "metadata": {},
   "outputs": [],
   "source": [
    "# Fonction permettant de trouver le nombre de musées dont le nom commence par 'Château'"
   ]
  },
  {
   "cell_type": "code",
   "execution_count": 97,
   "id": "3917eb96",
   "metadata": {},
   "outputs": [
    {
     "name": "stdout",
     "output_type": "stream",
     "text": [
      "Il y a 57 musées dont le nom commence par 'Château' en France !\n"
     ]
    }
   ],
   "source": [
    "def museesChateaux():\n",
    "    museums_with_chateau = data['name'].str.startswith('Château').sum()\n",
    "    print(\"Il y a\",museums_with_chateau, \"musées dont le nom commence par 'Château' en France !\")\n",
    "    \n",
    "museesChateaux()"
   ]
  },
  {
   "cell_type": "code",
   "execution_count": null,
   "id": "f18f886c",
   "metadata": {},
   "outputs": [],
   "source": [
    "# Fonction permettant de compter le nombre de musées possédant une adresse mail"
   ]
  },
  {
   "cell_type": "code",
   "execution_count": 77,
   "id": "5bac60e7",
   "metadata": {},
   "outputs": [
    {
     "name": "stdout",
     "output_type": "stream",
     "text": [
      "Il y a 301 musées avec une adresse mail en France !\n"
     ]
    }
   ],
   "source": [
    "def mailMusees():\n",
    "    museums_with_mail = data.dropna(subset = ['email'])\n",
    "    museums_with_mail_count = len(museums_with_mail['email'])\n",
    "    print(\"Il y a\", museums_with_mail_count, \"musées avec une adresse mail en France !\")\n",
    "    \n",
    "mailMusees()"
   ]
  },
  {
   "cell_type": "code",
   "execution_count": null,
   "id": "2a1138b5",
   "metadata": {},
   "outputs": [],
   "source": [
    "# Fonction permettant de déterminer quel département possède le plus de musées en France"
   ]
  },
  {
   "cell_type": "code",
   "execution_count": 121,
   "id": "c89aa0b6",
   "metadata": {},
   "outputs": [
    {
     "name": "stdout",
     "output_type": "stream",
     "text": [
      "Le département comptant le plus de musées en France est le 75 !\n"
     ]
    }
   ],
   "source": [
    "def museesDepartement():\n",
    "    departement_with_most_museum = data['postal_code'].apply(str).str[:2].value_counts().idxmax()\n",
    "    print(\"Le département comptant le plus de musées en France est le\", departement_with_most_museum, \"!\")\n",
    "\n",
    "museesDepartement()"
   ]
  },
  {
   "cell_type": "code",
   "execution_count": 117,
   "id": "55bcb134",
   "metadata": {},
   "outputs": [],
   "source": [
    "# Fonction permettant de déterminer quel département possède le moins de musées en France"
   ]
  },
  {
   "cell_type": "code",
   "execution_count": 120,
   "id": "833f1a1a",
   "metadata": {},
   "outputs": [
    {
     "name": "stdout",
     "output_type": "stream",
     "text": [
      "Le département comptant le moins de musées en France est le 98 !\n"
     ]
    }
   ],
   "source": [
    "def museesDepartement():\n",
    "    departement_with_less_museum = data['postal_code'].apply(str).str[:2].value_counts().idxmin()\n",
    "    print(\"Le département comptant le moins de musées en France est le\", departement_with_less_museum, \"!\")\n",
    "\n",
    "museesDepartement()"
   ]
  },
  {
   "cell_type": "code",
   "execution_count": null,
   "id": "e7d8e4f0",
   "metadata": {},
   "outputs": [],
   "source": [
    "# Fonction permettant de trouver le nombre de musées dont le nom contient 'Napoléon'"
   ]
  },
  {
   "cell_type": "code",
   "execution_count": 105,
   "id": "b3d8a88d",
   "metadata": {},
   "outputs": [
    {
     "name": "stdout",
     "output_type": "stream",
     "text": [
      "Il y a 4 musées dont le nom contient 'Napoléon' en France !\n"
     ]
    }
   ],
   "source": [
    "def museesNapoleon():\n",
    "    museums_with_napoleon = data['name'].str.contains('Napoléon').sum()\n",
    "    print(\"Il y a\",museums_with_napoleon, \"musées dont le nom contient 'Napoléon' en France !\")\n",
    "    \n",
    "museesNapoleon()"
   ]
  },
  {
   "cell_type": "markdown",
   "id": "c07edce6",
   "metadata": {},
   "source": [
    "https://data.culture.gouv.fr/explore/dataset/frequentation-des-musees-de-france/export/?refine.annee=2019&dataChart=eyJxdWVyaWVzIjpbeyJjaGFydHMiOlt7ImFsaWduTW9udGgiOnRydWUsInR5cGUiOiJsaW5lIiwiZnVuYyI6IlNVTSIsInlBeGlzIjoidG90YWwiLCJzY2llbnRpZmljRGlzcGxheSI6dHJ1ZSwiY29sb3IiOiIjYzQzYTJmIn0seyJhbGlnbk1vbnRoIjp0cnVlLCJ0eXBlIjoibGluZSIsImZ1bmMiOiJTVU0iLCJ5QXhpcyI6InBheWFudCIsInNjaWVudGlmaWNEaXNwbGF5Ijp0cnVlLCJjb2xvciI6IiMzNzdkODcifSx7ImFsaWduTW9udGgiOnRydWUsInR5cGUiOiJsaW5lIiwiZnVuYyI6IlNVTSIsInlBeGlzIjoiZ3JhdHVpdCIsInNjaWVudGlmaWNEaXNwbGF5Ijp0cnVlLCJjb2xvciI6IiNkNmJhOWQifV0sInhBeGlzIjoiYW5uZWUiLCJtYXhwb2ludHMiOiIiLCJ0aW1lc2NhbGUiOiJ5ZWFyIiwic29ydCI6IiIsImNvbmZpZyI6eyJkYXRhc2V0IjoiZnJlcXVlbnRhdGlvbi1kZXMtbXVzZWVzLWRlLWZyYW5jZSIsIm9wdGlvbnMiOnsicmVmaW5lLmFubmVlIjoiMjAxOSJ9fX1dLCJkaXNwbGF5TGVnZW5kIjp0cnVlLCJ0aW1lc2NhbGUiOiIiLCJhbGlnbk1vbnRoIjp0cnVlLCJzaW5nbGVBeGlzIjp0cnVlfQ%3D%3D\n",
    "\n",
    "Site du Ministère de la Culture sur la fréquentation des musées de 2001 à 2019. Possibilité de télécharger le CSV.\n",
    "\n",
    "https://www.culture.gouv.fr/Thematiques/Etudes-et-statistiques/Statistiques-culturelles/Donnees-statistiques-par-domaine_Cultural-statistics-databases/Musees\n",
    "\n",
    "Site du Ministère de la Culture. Indique les expos récentes ayant le plus marché et l'évolution de la fréquentation des musées par région, ... "
   ]
  }
 ],
 "metadata": {
  "kernelspec": {
   "display_name": "Python 3 (ipykernel)",
   "language": "python",
   "name": "python3"
  },
  "language_info": {
   "codemirror_mode": {
    "name": "ipython",
    "version": 3
   },
   "file_extension": ".py",
   "mimetype": "text/x-python",
   "name": "python",
   "nbconvert_exporter": "python",
   "pygments_lexer": "ipython3",
   "version": "3.9.7"
  }
 },
 "nbformat": 4,
 "nbformat_minor": 5
}
